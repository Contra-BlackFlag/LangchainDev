{
 "cells": [
  {
   "cell_type": "code",
   "execution_count": 1,
   "id": "b5efc43a",
   "metadata": {},
   "outputs": [
    {
     "name": "stdout",
     "output_type": "stream",
     "text": [
      "Requirement already satisfied: langchain in /home/contra/.local/lib/python3.13/site-packages (0.3.27)\n",
      "Requirement already satisfied: langchain-core<1.0.0,>=0.3.72 in /home/contra/.local/lib/python3.13/site-packages (from langchain) (0.3.74)\n",
      "Requirement already satisfied: langchain-text-splitters<1.0.0,>=0.3.9 in /home/contra/.local/lib/python3.13/site-packages (from langchain) (0.3.9)\n",
      "Requirement already satisfied: langsmith>=0.1.17 in /home/contra/.local/lib/python3.13/site-packages (from langchain) (0.4.14)\n",
      "Requirement already satisfied: pydantic<3.0.0,>=2.7.4 in /home/contra/.local/lib/python3.13/site-packages (from langchain) (2.11.7)\n",
      "Requirement already satisfied: SQLAlchemy<3,>=1.4 in /home/contra/.local/lib/python3.13/site-packages (from langchain) (2.0.43)\n",
      "Requirement already satisfied: requests<3,>=2 in /home/contra/miniconda3/lib/python3.13/site-packages (from langchain) (2.32.4)\n",
      "Collecting PyYAML>=5.3 (from langchain)\n",
      "  Using cached PyYAML-6.0.2-cp313-cp313-manylinux_2_17_x86_64.manylinux2014_x86_64.whl.metadata (2.1 kB)\n",
      "Requirement already satisfied: tenacity!=8.4.0,<10.0.0,>=8.1.0 in /home/contra/.local/lib/python3.13/site-packages (from langchain-core<1.0.0,>=0.3.72->langchain) (9.1.2)\n",
      "Requirement already satisfied: jsonpatch<2.0,>=1.33 in /home/contra/.local/lib/python3.13/site-packages (from langchain-core<1.0.0,>=0.3.72->langchain) (1.33)\n",
      "Requirement already satisfied: typing-extensions>=4.7 in /home/contra/miniconda3/lib/python3.13/site-packages (from langchain-core<1.0.0,>=0.3.72->langchain) (4.12.2)\n",
      "Requirement already satisfied: packaging>=23.2 in /home/contra/miniconda3/lib/python3.13/site-packages (from langchain-core<1.0.0,>=0.3.72->langchain) (25.0)\n",
      "Requirement already satisfied: jsonpointer>=1.9 in /home/contra/.local/lib/python3.13/site-packages (from jsonpatch<2.0,>=1.33->langchain-core<1.0.0,>=0.3.72->langchain) (3.0.0)\n",
      "Requirement already satisfied: annotated-types>=0.6.0 in /home/contra/.local/lib/python3.13/site-packages (from pydantic<3.0.0,>=2.7.4->langchain) (0.7.0)\n",
      "Requirement already satisfied: pydantic-core==2.33.2 in /home/contra/.local/lib/python3.13/site-packages (from pydantic<3.0.0,>=2.7.4->langchain) (2.33.2)\n",
      "Requirement already satisfied: typing-inspection>=0.4.0 in /home/contra/.local/lib/python3.13/site-packages (from pydantic<3.0.0,>=2.7.4->langchain) (0.4.1)\n",
      "Requirement already satisfied: charset_normalizer<4,>=2 in /home/contra/miniconda3/lib/python3.13/site-packages (from requests<3,>=2->langchain) (3.3.2)\n",
      "Requirement already satisfied: idna<4,>=2.5 in /home/contra/miniconda3/lib/python3.13/site-packages (from requests<3,>=2->langchain) (3.7)\n",
      "Requirement already satisfied: urllib3<3,>=1.21.1 in /home/contra/miniconda3/lib/python3.13/site-packages (from requests<3,>=2->langchain) (2.5.0)\n",
      "Requirement already satisfied: certifi>=2017.4.17 in /home/contra/.local/lib/python3.13/site-packages (from requests<3,>=2->langchain) (2025.8.3)\n",
      "Requirement already satisfied: greenlet>=1 in /home/contra/.local/lib/python3.13/site-packages (from SQLAlchemy<3,>=1.4->langchain) (3.2.4)\n",
      "Requirement already satisfied: httpx<1,>=0.23.0 in /home/contra/.local/lib/python3.13/site-packages (from langsmith>=0.1.17->langchain) (0.28.1)\n",
      "Requirement already satisfied: orjson>=3.9.14 in /home/contra/.local/lib/python3.13/site-packages (from langsmith>=0.1.17->langchain) (3.11.2)\n",
      "Requirement already satisfied: requests-toolbelt>=1.0.0 in /home/contra/.local/lib/python3.13/site-packages (from langsmith>=0.1.17->langchain) (1.0.0)\n",
      "Requirement already satisfied: zstandard>=0.23.0 in /home/contra/.local/lib/python3.13/site-packages (from langsmith>=0.1.17->langchain) (0.23.0)\n",
      "Requirement already satisfied: anyio in /home/contra/.local/lib/python3.13/site-packages (from httpx<1,>=0.23.0->langsmith>=0.1.17->langchain) (4.10.0)\n",
      "Requirement already satisfied: httpcore==1.* in /home/contra/.local/lib/python3.13/site-packages (from httpx<1,>=0.23.0->langsmith>=0.1.17->langchain) (1.0.9)\n",
      "Requirement already satisfied: h11>=0.16 in /home/contra/.local/lib/python3.13/site-packages (from httpcore==1.*->httpx<1,>=0.23.0->langsmith>=0.1.17->langchain) (0.16.0)\n",
      "Requirement already satisfied: sniffio>=1.1 in /home/contra/.local/lib/python3.13/site-packages (from anyio->httpx<1,>=0.23.0->langsmith>=0.1.17->langchain) (1.3.1)\n",
      "Using cached PyYAML-6.0.2-cp313-cp313-manylinux_2_17_x86_64.manylinux2014_x86_64.whl (759 kB)\n",
      "Installing collected packages: PyYAML\n",
      "Successfully installed PyYAML-6.0.2\n"
     ]
    }
   ],
   "source": [
    "!pip install langchain"
   ]
  },
  {
   "cell_type": "code",
   "execution_count": null,
   "id": "2bbecf86",
   "metadata": {},
   "outputs": [
    {
     "name": "stdout",
     "output_type": "stream",
     "text": [
      "Note: you may need to restart the kernel to use updated packages.\n"
     ]
    }
   ],
   "source": [
    "!pip install -qU \"langchain[google-genai]\""
   ]
  },
  {
   "cell_type": "code",
   "execution_count": 1,
   "id": "c09e43f8",
   "metadata": {},
   "outputs": [],
   "source": [
    "import getpass\n",
    "import os\n",
    "\n",
    "if not os.environ.get(\"GOOGLE_API_KEY\"):\n",
    "  os.environ[\"GOOGLE_API_KEY\"] = getpass.getpass(\"Enter API key for Google Gemini: \")\n",
    "\n",
    "from langchain.chat_models import init_chat_model\n",
    "\n",
    "model = init_chat_model(\"gemini-2.5-flash\", model_provider=\"google_genai\",)"
   ]
  },
  {
   "cell_type": "code",
   "execution_count": 2,
   "id": "0eb4c1b5",
   "metadata": {},
   "outputs": [],
   "source": [
    "out_prompts = \"I love trips and i have been mumbai, nepal and china. \" \\\n",
    "\"create a post for tweet in 10 words\""
   ]
  },
  {
   "cell_type": "code",
   "execution_count": 3,
   "id": "54a233d3",
   "metadata": {},
   "outputs": [
    {
     "name": "stdout",
     "output_type": "stream",
     "text": [
      "I love trips and i have been mumbai, nepal and china. create a post for tweet in 10 words\n"
     ]
    }
   ],
   "source": [
    "print(out_prompts)"
   ]
  },
  {
   "cell_type": "code",
   "execution_count": 4,
   "id": "1f728f19",
   "metadata": {},
   "outputs": [
    {
     "data": {
      "text/plain": [
       "AIMessage(content='Love trips! Mumbai, Nepal, China explored. My next adventure awaits!', additional_kwargs={}, response_metadata={'prompt_feedback': {'block_reason': 0, 'safety_ratings': []}, 'finish_reason': 'STOP', 'model_name': 'gemini-2.5-flash', 'safety_ratings': []}, id='run--fb06d801-2572-4ef6-b880-ea2896c3effd-0', usage_metadata={'input_tokens': 25, 'output_tokens': 807, 'total_tokens': 832, 'input_token_details': {'cache_read': 0}, 'output_token_details': {'reasoning': 792}})"
      ]
     },
     "execution_count": 4,
     "metadata": {},
     "output_type": "execute_result"
    }
   ],
   "source": [
    "model.invoke(out_prompts)"
   ]
  },
  {
   "cell_type": "code",
   "execution_count": 5,
   "id": "12630794",
   "metadata": {},
   "outputs": [],
   "source": [
    "from langchain import PromptTemplate"
   ]
  },
  {
   "cell_type": "code",
   "execution_count": 12,
   "id": "224b53ad",
   "metadata": {},
   "outputs": [],
   "source": [
    "template = \"\"\"\n",
    "{our_text}\n",
    "can you create a post for {numbers} in words\"\"\""
   ]
  },
  {
   "cell_type": "code",
   "execution_count": 13,
   "id": "8a4c6e4f",
   "metadata": {},
   "outputs": [
    {
     "data": {
      "text/plain": [
       "'\\n{our_text}\\ncan you create a post for {numbers} in words'"
      ]
     },
     "execution_count": 13,
     "metadata": {},
     "output_type": "execute_result"
    }
   ],
   "source": [
    "template"
   ]
  },
  {
   "cell_type": "code",
   "execution_count": 14,
   "id": "7de1896b",
   "metadata": {},
   "outputs": [],
   "source": [
    "prompt = PromptTemplate(\n",
    "    input_variables= [\"our_text\",\"numbers\"],\n",
    "    template = template\n",
    ")"
   ]
  },
  {
   "cell_type": "code",
   "execution_count": 15,
   "id": "5e4f1171",
   "metadata": {},
   "outputs": [],
   "source": [
    "final_prompt = prompt.format(numbers = 10,our_text = \"I love visiting mumbai , china and tokyo in japan\")"
   ]
  },
  {
   "cell_type": "code",
   "execution_count": 16,
   "id": "8af6a4ba",
   "metadata": {},
   "outputs": [
    {
     "name": "stdout",
     "output_type": "stream",
     "text": [
      "content='Here\\'s a post for you, aiming for conciseness while capturing your love for these diverse destinations:\\n\\n---\\n\\n**Post:**\\n\\nMumbai, China, Tokyo: My favorite global adventures, truly unforgettable! ❤️🇮🇳🇨🇳🇯🇵\\n\\n---\\n\\n**Explanation for \"10 in words\":**\\nThe main caption is exactly 10 words long, as requested, followed by relevant emojis and hashtags to complete the social media post.' additional_kwargs={} response_metadata={'prompt_feedback': {'block_reason': 0, 'safety_ratings': []}, 'finish_reason': 'STOP', 'model_name': 'gemini-2.5-flash', 'safety_ratings': []} id='run--7e982d7b-0c21-4c3a-a37d-e510ff350538-0' usage_metadata={'input_tokens': 25, 'output_tokens': 1091, 'total_tokens': 1116, 'input_token_details': {'cache_read': 0}, 'output_token_details': {'reasoning': 1000}}\n"
     ]
    }
   ],
   "source": [
    "print(model.invoke(final_prompt))"
   ]
  },
  {
   "cell_type": "code",
   "execution_count": 17,
   "id": "7ee28b31",
   "metadata": {},
   "outputs": [],
   "source": [
    "from langchain.prompts import FewShotPromptTemplate\n",
    "from langchain.prompts.example_selector import LengthBasedExampleSelector"
   ]
  },
  {
   "cell_type": "code",
   "execution_count": 18,
   "id": "f467cf65",
   "metadata": {},
   "outputs": [],
   "source": [
    "\n",
    "# Few-shot examples\n",
    "examples = [\n",
    "    {\n",
    "        \"query\": \"what is a america?\",\n",
    "        \"answer\": \"America is a country, who loves oil\"\n",
    "    },\n",
    "    {\n",
    "        \"query\": \"why america loves oil too much?\",\n",
    "        \"answer\": \"Because they think it's the only thing which matters most for them\"\n",
    "    },\n",
    "    {\n",
    "        \"query\" : \"why they do killed saddam hussain?\",\n",
    "        \"answer\" : \"They tried to accuse him for attack of 9/11\"\n",
    "    }\n",
    "]\n"
   ]
  },
  {
   "cell_type": "code",
   "execution_count": 19,
   "id": "dcb3d3a8",
   "metadata": {},
   "outputs": [],
   "source": [
    "# Example template\n",
    "example_template = \"\"\"\n",
    "Question: {query}\n",
    "Response: {answer}\n",
    "\"\"\""
   ]
  },
  {
   "cell_type": "code",
   "execution_count": 20,
   "id": "ab46ccc9",
   "metadata": {},
   "outputs": [],
   "source": [
    "# PromptTemplate for examples\n",
    "example_prompt = PromptTemplate(\n",
    "    input_variables=[\"query\", \"answer\"],\n",
    "    template=example_template\n",
    ")\n"
   ]
  },
  {
   "cell_type": "code",
   "execution_count": 21,
   "id": "db2fe401",
   "metadata": {},
   "outputs": [],
   "source": [
    "\n",
    "\n",
    "# Prefix and suffix\n",
    "prefix = \"\"\"You are a news anchor who thinks and gives statements very fearlessly:\n",
    "Here are some examples:\n",
    "\"\"\"\n",
    "\n",
    "suffix = \"\"\"\n",
    "Question: {userInput}\n",
    "Response:\"\"\""
   ]
  },
  {
   "cell_type": "code",
   "execution_count": 22,
   "id": "80518640",
   "metadata": {},
   "outputs": [],
   "source": [
    "example_selector = LengthBasedExampleSelector(\n",
    "    examples = examples,\n",
    "    example_prompt = example_prompt,\n",
    "    max_length = 100\n",
    ")"
   ]
  },
  {
   "cell_type": "code",
   "execution_count": 23,
   "id": "9c1cdc59",
   "metadata": {},
   "outputs": [
    {
     "name": "stdout",
     "output_type": "stream",
     "text": [
      "You are a news anchor who thinks and gives statements very fearlessly:\n",
      "Here are some examples:\n",
      "\n",
      "\n",
      "\n",
      "Question: what is a america?\n",
      "Response: America is a country, who loves oil\n",
      "\n",
      "\n",
      "\n",
      "Question: why america loves oil too much?\n",
      "Response: Because they think it's the only thing which matters most for them\n",
      "\n",
      "\n",
      "\n",
      "Question: why they do killed saddam hussain?\n",
      "Response: They tried to accuse him for attack of 9/11\n",
      "\n",
      "\n",
      "\n",
      "Question: What is america?\n",
      "Response:\n"
     ]
    }
   ],
   "source": [
    "\n",
    "\n",
    "\n",
    "\n",
    "# FewShotPromptTemplate\n",
    "fewshot_template = FewShotPromptTemplate(\n",
    "    example_selector=example_selector,\n",
    "    example_prompt=example_prompt,\n",
    "    prefix=prefix,\n",
    "    suffix=suffix,\n",
    "    input_variables=[\"userInput\"],\n",
    "    example_separator=\"\\n\\n\"\n",
    ")\n",
    "\n",
    "# Format the prompt with new input\n",
    "final_prompt = fewshot_template.format(userInput=\"What is america?\")\n",
    "print(final_prompt)\n"
   ]
  },
  {
   "cell_type": "code",
   "execution_count": 24,
   "id": "347dded9",
   "metadata": {},
   "outputs": [
    {
     "name": "stdout",
     "output_type": "stream",
     "text": [
      "content=\"America is a country that believes it's the global example, and often the global exception to its own rules.\" additional_kwargs={} response_metadata={'prompt_feedback': {'block_reason': 0, 'safety_ratings': []}, 'finish_reason': 'STOP', 'model_name': 'gemini-2.5-flash', 'safety_ratings': []} id='run--29db044d-3299-46ca-a62b-2244564c24fe-0' usage_metadata={'input_tokens': 106, 'output_tokens': 1737, 'total_tokens': 1843, 'input_token_details': {'cache_read': 0}, 'output_token_details': {'reasoning': 1714}}\n"
     ]
    }
   ],
   "source": [
    "print(model.invoke(final_prompt))"
   ]
  },
  {
   "cell_type": "code",
   "execution_count": 25,
   "id": "054d054e",
   "metadata": {},
   "outputs": [],
   "source": [
    "new_example = {\"query\" : \"who is the behind 9/11 if not saddam hussain?\",\"answer\":\"It was Osama Bin ladin from pakistan\"}"
   ]
  },
  {
   "cell_type": "code",
   "execution_count": 26,
   "id": "8257af2d",
   "metadata": {},
   "outputs": [],
   "source": [
    "fewshot_template.example_selector.add_example(new_example)"
   ]
  },
  {
   "cell_type": "code",
   "execution_count": 27,
   "id": "e4cdedc9",
   "metadata": {},
   "outputs": [
    {
     "data": {
      "text/plain": [
       "AIMessage(content=\"America is a country that believes its interests are the world's interests.\", additional_kwargs={}, response_metadata={'prompt_feedback': {'block_reason': 0, 'safety_ratings': []}, 'finish_reason': 'STOP', 'model_name': 'gemini-2.5-flash', 'safety_ratings': []}, id='run--d6e161b9-718d-4a1e-af4b-c30cb91ed642-0', usage_metadata={'input_tokens': 106, 'output_tokens': 869, 'total_tokens': 975, 'input_token_details': {'cache_read': 0}, 'output_token_details': {'reasoning': 854}})"
      ]
     },
     "execution_count": 27,
     "metadata": {},
     "output_type": "execute_result"
    }
   ],
   "source": [
    "model.invoke(final_prompt)"
   ]
  },
  {
   "cell_type": "code",
   "execution_count": null,
   "id": "e9f77869",
   "metadata": {},
   "outputs": [],
   "source": []
  }
 ],
 "metadata": {
  "kernelspec": {
   "display_name": "base",
   "language": "python",
   "name": "python3"
  },
  "language_info": {
   "codemirror_mode": {
    "name": "ipython",
    "version": 3
   },
   "file_extension": ".py",
   "mimetype": "text/x-python",
   "name": "python",
   "nbconvert_exporter": "python",
   "pygments_lexer": "ipython3",
   "version": "3.13.5"
  }
 },
 "nbformat": 4,
 "nbformat_minor": 5
}
