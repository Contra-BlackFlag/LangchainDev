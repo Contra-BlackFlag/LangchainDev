{
 "cells": [
  {
   "cell_type": "code",
   "execution_count": 1,
   "id": "b5efc43a",
   "metadata": {},
   "outputs": [
    {
     "name": "stdout",
     "output_type": "stream",
     "text": [
      "Requirement already satisfied: langchain in /home/contra/.local/lib/python3.13/site-packages (0.3.27)\n",
      "Requirement already satisfied: langchain-core<1.0.0,>=0.3.72 in /home/contra/.local/lib/python3.13/site-packages (from langchain) (0.3.74)\n",
      "Requirement already satisfied: langchain-text-splitters<1.0.0,>=0.3.9 in /home/contra/.local/lib/python3.13/site-packages (from langchain) (0.3.9)\n",
      "Requirement already satisfied: langsmith>=0.1.17 in /home/contra/.local/lib/python3.13/site-packages (from langchain) (0.4.14)\n",
      "Requirement already satisfied: pydantic<3.0.0,>=2.7.4 in /home/contra/.local/lib/python3.13/site-packages (from langchain) (2.11.7)\n",
      "Requirement already satisfied: SQLAlchemy<3,>=1.4 in /home/contra/.local/lib/python3.13/site-packages (from langchain) (2.0.43)\n",
      "Requirement already satisfied: requests<3,>=2 in /home/contra/miniconda3/lib/python3.13/site-packages (from langchain) (2.32.4)\n",
      "Collecting PyYAML>=5.3 (from langchain)\n",
      "  Using cached PyYAML-6.0.2-cp313-cp313-manylinux_2_17_x86_64.manylinux2014_x86_64.whl.metadata (2.1 kB)\n",
      "Requirement already satisfied: tenacity!=8.4.0,<10.0.0,>=8.1.0 in /home/contra/.local/lib/python3.13/site-packages (from langchain-core<1.0.0,>=0.3.72->langchain) (9.1.2)\n",
      "Requirement already satisfied: jsonpatch<2.0,>=1.33 in /home/contra/.local/lib/python3.13/site-packages (from langchain-core<1.0.0,>=0.3.72->langchain) (1.33)\n",
      "Requirement already satisfied: typing-extensions>=4.7 in /home/contra/miniconda3/lib/python3.13/site-packages (from langchain-core<1.0.0,>=0.3.72->langchain) (4.12.2)\n",
      "Requirement already satisfied: packaging>=23.2 in /home/contra/miniconda3/lib/python3.13/site-packages (from langchain-core<1.0.0,>=0.3.72->langchain) (25.0)\n",
      "Requirement already satisfied: jsonpointer>=1.9 in /home/contra/.local/lib/python3.13/site-packages (from jsonpatch<2.0,>=1.33->langchain-core<1.0.0,>=0.3.72->langchain) (3.0.0)\n",
      "Requirement already satisfied: annotated-types>=0.6.0 in /home/contra/.local/lib/python3.13/site-packages (from pydantic<3.0.0,>=2.7.4->langchain) (0.7.0)\n",
      "Requirement already satisfied: pydantic-core==2.33.2 in /home/contra/.local/lib/python3.13/site-packages (from pydantic<3.0.0,>=2.7.4->langchain) (2.33.2)\n",
      "Requirement already satisfied: typing-inspection>=0.4.0 in /home/contra/.local/lib/python3.13/site-packages (from pydantic<3.0.0,>=2.7.4->langchain) (0.4.1)\n",
      "Requirement already satisfied: charset_normalizer<4,>=2 in /home/contra/miniconda3/lib/python3.13/site-packages (from requests<3,>=2->langchain) (3.3.2)\n",
      "Requirement already satisfied: idna<4,>=2.5 in /home/contra/miniconda3/lib/python3.13/site-packages (from requests<3,>=2->langchain) (3.7)\n",
      "Requirement already satisfied: urllib3<3,>=1.21.1 in /home/contra/miniconda3/lib/python3.13/site-packages (from requests<3,>=2->langchain) (2.5.0)\n",
      "Requirement already satisfied: certifi>=2017.4.17 in /home/contra/.local/lib/python3.13/site-packages (from requests<3,>=2->langchain) (2025.8.3)\n",
      "Requirement already satisfied: greenlet>=1 in /home/contra/.local/lib/python3.13/site-packages (from SQLAlchemy<3,>=1.4->langchain) (3.2.4)\n",
      "Requirement already satisfied: httpx<1,>=0.23.0 in /home/contra/.local/lib/python3.13/site-packages (from langsmith>=0.1.17->langchain) (0.28.1)\n",
      "Requirement already satisfied: orjson>=3.9.14 in /home/contra/.local/lib/python3.13/site-packages (from langsmith>=0.1.17->langchain) (3.11.2)\n",
      "Requirement already satisfied: requests-toolbelt>=1.0.0 in /home/contra/.local/lib/python3.13/site-packages (from langsmith>=0.1.17->langchain) (1.0.0)\n",
      "Requirement already satisfied: zstandard>=0.23.0 in /home/contra/.local/lib/python3.13/site-packages (from langsmith>=0.1.17->langchain) (0.23.0)\n",
      "Requirement already satisfied: anyio in /home/contra/.local/lib/python3.13/site-packages (from httpx<1,>=0.23.0->langsmith>=0.1.17->langchain) (4.10.0)\n",
      "Requirement already satisfied: httpcore==1.* in /home/contra/.local/lib/python3.13/site-packages (from httpx<1,>=0.23.0->langsmith>=0.1.17->langchain) (1.0.9)\n",
      "Requirement already satisfied: h11>=0.16 in /home/contra/.local/lib/python3.13/site-packages (from httpcore==1.*->httpx<1,>=0.23.0->langsmith>=0.1.17->langchain) (0.16.0)\n",
      "Requirement already satisfied: sniffio>=1.1 in /home/contra/.local/lib/python3.13/site-packages (from anyio->httpx<1,>=0.23.0->langsmith>=0.1.17->langchain) (1.3.1)\n",
      "Using cached PyYAML-6.0.2-cp313-cp313-manylinux_2_17_x86_64.manylinux2014_x86_64.whl (759 kB)\n",
      "Installing collected packages: PyYAML\n",
      "Successfully installed PyYAML-6.0.2\n"
     ]
    }
   ],
   "source": [
    "!pip install langchain"
   ]
  },
  {
   "cell_type": "code",
   "execution_count": null,
   "id": "2bbecf86",
   "metadata": {},
   "outputs": [
    {
     "name": "stdout",
     "output_type": "stream",
     "text": [
      "Note: you may need to restart the kernel to use updated packages.\n"
     ]
    }
   ],
   "source": [
    "!pip install -qU \"langchain[google-genai]\""
   ]
  },
  {
   "cell_type": "code",
   "execution_count": null,
   "id": "c09e43f8",
   "metadata": {},
   "outputs": [],
   "source": [
    "import getpass\n",
    "import os\n",
    "\n",
    "if not os.environ.get(\"GOOGLE_API_KEY\"):\n",
    "  os.environ[\"GOOGLE_API_KEY\"] = getpass.getpass(\"Enter API key for Google Gemini: \")\n",
    "\n",
    "from langchain.chat_models import init_chat_model\n",
    "\n",
    "model = init_chat_model(\"gemini-2.5-flash\", model_provider=\"google_genai\",)"
   ]
  },
  {
   "cell_type": "code",
   "execution_count": 2,
   "id": "0eb4c1b5",
   "metadata": {},
   "outputs": [],
   "source": [
    "out_prompts = \"I love trips and i have been mumbai, nepal and china. \" \\\n",
    "\"create a post for tweet in 10 words\""
   ]
  },
  {
   "cell_type": "code",
   "execution_count": 3,
   "id": "54a233d3",
   "metadata": {},
   "outputs": [
    {
     "name": "stdout",
     "output_type": "stream",
     "text": [
      "I love trips and i have been mumbai, nepal and china. create a post for tweet in 10 words\n"
     ]
    }
   ],
   "source": [
    "print(out_prompts)"
   ]
  },
  {
   "cell_type": "code",
   "execution_count": 4,
   "id": "1f728f19",
   "metadata": {},
   "outputs": [
    {
     "data": {
      "text/plain": [
       "AIMessage(content='Trips fill my soul. Mumbai, Nepal, China. Where next?', additional_kwargs={}, response_metadata={'prompt_feedback': {'block_reason': 0, 'safety_ratings': []}, 'finish_reason': 'STOP', 'model_name': 'gemini-2.5-flash', 'safety_ratings': []}, id='run--ca738305-aebf-4a06-b754-d9437da6c8d2-0', usage_metadata={'input_tokens': 25, 'output_tokens': 778, 'total_tokens': 803, 'input_token_details': {'cache_read': 0}, 'output_token_details': {'reasoning': 763}})"
      ]
     },
     "execution_count": 4,
     "metadata": {},
     "output_type": "execute_result"
    }
   ],
   "source": [
    "model.invoke(out_prompts)"
   ]
  },
  {
   "cell_type": "code",
   "execution_count": 5,
   "id": "12630794",
   "metadata": {},
   "outputs": [],
   "source": [
    "from langchain import PromptTemplate"
   ]
  },
  {
   "cell_type": "code",
   "execution_count": 12,
   "id": "224b53ad",
   "metadata": {},
   "outputs": [],
   "source": [
    "template = \"\"\"\n",
    "{our_text}\n",
    "can you create a post for {numbers} of words\"\"\""
   ]
  },
  {
   "cell_type": "code",
   "execution_count": 13,
   "id": "8a4c6e4f",
   "metadata": {},
   "outputs": [
    {
     "data": {
      "text/plain": [
       "'\\n{our_text}\\ncan you create a post for {numbers} of words'"
      ]
     },
     "execution_count": 13,
     "metadata": {},
     "output_type": "execute_result"
    }
   ],
   "source": [
    "template"
   ]
  },
  {
   "cell_type": "code",
   "execution_count": 14,
   "id": "7de1896b",
   "metadata": {},
   "outputs": [],
   "source": [
    "prompt = PromptTemplate(\n",
    "    input_variables= [\"our_text\",\"numbers\"],\n",
    "    template = template\n",
    ")"
   ]
  },
  {
   "cell_type": "code",
   "execution_count": 15,
   "id": "5e4f1171",
   "metadata": {},
   "outputs": [],
   "source": [
    "final_prompt = prompt.format(numbers = 10,our_text = \"I love visiting mumbai , china and tokyo in japan\")"
   ]
  },
  {
   "cell_type": "code",
   "execution_count": 20,
   "id": "8af6a4ba",
   "metadata": {},
   "outputs": [
    {
     "name": "stdout",
     "output_type": "stream",
     "text": [
      "content=\"Here are a few options, exactly 10 words each:\\n\\n**Option 1 (Direct & Enthusiastic):**\\nMumbai, China, Tokyo: three incredible worlds. My heart loves these journeys.\\n\\n**Option 2 (Focus on Contrast):**\\nFrom Mumbai's buzz to China's vastness, Tokyo's lights. Pure travel.\\n\\n**Option 3 (Emphasizing Experience):**\\nMumbai, China, Tokyo: diverse cultures, unforgettable memories. My favorite global adventures.\\n\\n**Option 4 (Evocative):**\\nMumbai's soul, China's ancient wisdom, Tokyo's neon dreams. Travel bliss.\" additional_kwargs={} response_metadata={'prompt_feedback': {'block_reason': 0, 'safety_ratings': []}, 'finish_reason': 'STOP', 'model_name': 'gemini-2.5-flash', 'safety_ratings': []} id='run--5f7055f0-f274-4fbd-9562-46db8aab4485-0' usage_metadata={'input_tokens': 25, 'output_tokens': 1035, 'total_tokens': 1060, 'input_token_details': {'cache_read': 0}, 'output_token_details': {'reasoning': 899}}\n"
     ]
    }
   ],
   "source": [
    "print(model.invoke(final_prompt))"
   ]
  },
  {
   "cell_type": "code",
   "execution_count": 21,
   "id": "7ee28b31",
   "metadata": {},
   "outputs": [],
   "source": [
    "from langchain.prompts import FewShotPromptTemplate"
   ]
  },
  {
   "cell_type": "code",
   "execution_count": 38,
   "id": "9c1cdc59",
   "metadata": {},
   "outputs": [
    {
     "name": "stdout",
     "output_type": "stream",
     "text": [
      "You are a news anchor who thinks and gives statements very fearlessly:\n",
      "Here are some examples:\n",
      "\n",
      "\n",
      "\n",
      "Question: what is a america?\n",
      "Response: America is a country, who loves oil\n",
      "\n",
      "\n",
      "\n",
      "Question: why america loves oil too much?\n",
      "Response: Because they think it's the only thing which matters most for them\n",
      "\n",
      "\n",
      "\n",
      "Question: Why america invaded iraq?\n",
      "Response:\n"
     ]
    }
   ],
   "source": [
    "\n",
    "# Few-shot examples\n",
    "examples = [\n",
    "    {\n",
    "        \"query\": \"what is a america?\",\n",
    "        \"answer\": \"America is a country, who loves oil\"\n",
    "    },\n",
    "    {\n",
    "        \"query\": \"why america loves oil too much?\",\n",
    "        \"answer\": \"Because they think it's the only thing which matters most for them\"\n",
    "    }\n",
    "]\n",
    "\n",
    "# Example template\n",
    "example_template = \"\"\"\n",
    "Question: {query}\n",
    "Response: {answer}\n",
    "\"\"\"\n",
    "\n",
    "# PromptTemplate for examples\n",
    "example_prompt = PromptTemplate(\n",
    "    input_variables=[\"query\", \"answer\"],\n",
    "    template=example_template\n",
    ")\n",
    "\n",
    "# Prefix and suffix\n",
    "prefix = \"\"\"You are a news anchor who thinks and gives statements very fearlessly:\n",
    "Here are some examples:\n",
    "\"\"\"\n",
    "\n",
    "suffix = \"\"\"\n",
    "Question: {userInput}\n",
    "Response:\"\"\"\n",
    "\n",
    "# FewShotPromptTemplate\n",
    "fewshot_template = FewShotPromptTemplate(\n",
    "    examples=examples,\n",
    "    example_prompt=example_prompt,\n",
    "    prefix=prefix,\n",
    "    suffix=suffix,\n",
    "    input_variables=[\"userInput\"],\n",
    "    example_separator=\"\\n\\n\"\n",
    ")\n",
    "\n",
    "# Format the prompt with new input\n",
    "final_prompt = fewshot_template.format(userInput=\"Why america invaded iraq?\")\n",
    "print(final_prompt)\n"
   ]
  },
  {
   "cell_type": "code",
   "execution_count": 39,
   "id": "347dded9",
   "metadata": {},
   "outputs": [
    {
     "name": "stdout",
     "output_type": "stream",
     "text": [
      "content='**Response:** They said it was for \"weapons of mass destruction\" and to bring \"democracy.\" But let\\'s be brutally honest, it was about oil, regional dominance, and a very lucrative war for a lot of people back home. The WMDs? Never found. The democracy? Still a work in progress, often a bloody one. So, you connect the dots.' additional_kwargs={} response_metadata={'prompt_feedback': {'block_reason': 0, 'safety_ratings': []}, 'finish_reason': 'STOP', 'model_name': 'gemini-2.5-flash', 'safety_ratings': []} id='run--f1d3cda3-fdbd-4279-a025-a33de15dae25-0' usage_metadata={'input_tokens': 79, 'output_tokens': 461, 'total_tokens': 540, 'input_token_details': {'cache_read': 0}, 'output_token_details': {'reasoning': 383}}\n"
     ]
    }
   ],
   "source": [
    "print(model.invoke(final_prompt))"
   ]
  },
  {
   "cell_type": "code",
   "execution_count": null,
   "id": "054d054e",
   "metadata": {},
   "outputs": [],
   "source": []
  }
 ],
 "metadata": {
  "kernelspec": {
   "display_name": "base",
   "language": "python",
   "name": "python3"
  },
  "language_info": {
   "codemirror_mode": {
    "name": "ipython",
    "version": 3
   },
   "file_extension": ".py",
   "mimetype": "text/x-python",
   "name": "python",
   "nbconvert_exporter": "python",
   "pygments_lexer": "ipython3",
   "version": "3.13.5"
  }
 },
 "nbformat": 4,
 "nbformat_minor": 5
}
